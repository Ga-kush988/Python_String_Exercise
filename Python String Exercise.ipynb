{
 "cells": [
  {
   "cell_type": "markdown",
   "id": "9898891c",
   "metadata": {},
   "source": [
    "### How do you concatenate two strings in Python?"
   ]
  },
  {
   "cell_type": "markdown",
   "id": "8c938680",
   "metadata": {},
   "source": [
    "String concatenation is the process of combining two or more strings into a single string. "
   ]
  },
  {
   "cell_type": "code",
   "execution_count": 24,
   "id": "2a0f023d",
   "metadata": {},
   "outputs": [
    {
     "name": "stdout",
     "output_type": "stream",
     "text": [
      "My name is Gaurav\n"
     ]
    }
   ],
   "source": [
    "string1 = \"My name\"\n",
    "\n",
    "string2 = \"is Gaurav\"\n",
    "\n",
    "print(string1+ \" \" + string2)"
   ]
  },
  {
   "cell_type": "markdown",
   "id": "21e71f18",
   "metadata": {},
   "source": [
    "###  What is the difference between the + operator and the join() method for concatenating strings?"
   ]
  },
  {
   "cell_type": "markdown",
   "id": "f13672e6",
   "metadata": {},
   "source": [
    "The + operator and the join() method both concatenate strings, but they differ in efficiency and how they handle multiple \n",
    "strings.\n",
    "\n",
    "#### + Operator:\n",
    "This operator directly adds strings together. It is simple for concatenating a few strings. However, it becomes inefficient when concatenating a large number of strings, especially within loops. \n",
    "\n",
    "\n",
    "#### join() Method:\n",
    "This method is specifically designed for concatenating multiple strings, particularly from an iterable (like a list or tuple). It takes an iterable of strings as input and joins them into a single string, using the string on which it is called as a separator. It is more efficient than the + operator for large numbers of strings because it creates only one new string object."
   ]
  },
  {
   "cell_type": "code",
   "execution_count": 16,
   "id": "fb6dbd3a",
   "metadata": {},
   "outputs": [
    {
     "name": "stdout",
     "output_type": "stream",
     "text": [
      "Kush.sharma.@.gamail.com\n"
     ]
    }
   ],
   "source": [
    "#Join()\n",
    "my_list = ['Kush','sharma',\"@\",\"gamail.com\"]\n",
    "\n",
    "seprator = \".\"\n",
    "\n",
    "print(seprator.join(my_list))"
   ]
  },
  {
   "cell_type": "code",
   "execution_count": 25,
   "id": "ad651a03",
   "metadata": {},
   "outputs": [
    {
     "name": "stdout",
     "output_type": "stream",
     "text": [
      "My name is Gaurav\n"
     ]
    }
   ],
   "source": [
    "# +Operator\n",
    "string1 = \"My name\"\n",
    "\n",
    "string2 = \"is Gaurav\"\n",
    "\n",
    "print(string1+ \" \" + string2)"
   ]
  },
  {
   "cell_type": "markdown",
   "id": "fad0fe70",
   "metadata": {},
   "source": [
    "### How do you access individual characters in a string?"
   ]
  },
  {
   "cell_type": "markdown",
   "id": "22c014fe",
   "metadata": {},
   "source": [
    "Individual characters in a Python string can be accessed using indexing, with the index starting at 0 for the first character. Square brackets are used to specify the index of the character to be accessed. Negative indexing can also be used, where -1 refers to the last character, -2 to the second last, and so on. Attempting to access an index outside the valid range will raise an IndexError."
   ]
  },
  {
   "cell_type": "code",
   "execution_count": 27,
   "id": "4c3caaa6",
   "metadata": {},
   "outputs": [
    {
     "name": "stdout",
     "output_type": "stream",
     "text": [
      "K\n",
      "h\n",
      "s\n"
     ]
    }
   ],
   "source": [
    "my_string = \"Kush\"\n",
    "print(my_string[0])  \n",
    "print(my_string[3]) \n",
    "print(my_string[-2]) "
   ]
  },
  {
   "cell_type": "markdown",
   "id": "121ea280",
   "metadata": {},
   "source": [
    "### What method is used to find the length of a string in Python?"
   ]
  },
  {
   "cell_type": "markdown",
   "id": "bbe9bc90",
   "metadata": {},
   "source": [
    "In Python, the len() function is used to determine the length of a string. This function counts the number of characters, including spaces and special characters, within the string. It returns an integer value representing the string's length. "
   ]
  },
  {
   "cell_type": "code",
   "execution_count": 32,
   "id": "0479ab31",
   "metadata": {},
   "outputs": [
    {
     "data": {
      "text/plain": [
       "49"
      ]
     },
     "execution_count": 32,
     "metadata": {},
     "output_type": "execute_result"
    }
   ],
   "source": [
    "my_string = \"Python is most important language in data science\"\n",
    "len(my_string)"
   ]
  },
  {
   "cell_type": "markdown",
   "id": "905f4c31",
   "metadata": {},
   "source": [
    "### How can you convert a string to uppercase in Python?"
   ]
  },
  {
   "cell_type": "markdown",
   "id": "aa546bb1",
   "metadata": {},
   "source": [
    "To convert a string to uppercase in Python, the upper() method can be used. This method does not require any arguments and returns a new string where all lowercase characters have been converted to uppercase. The original string remains unchanged."
   ]
  },
  {
   "cell_type": "code",
   "execution_count": 40,
   "id": "926904af",
   "metadata": {},
   "outputs": [
    {
     "name": "stdout",
     "output_type": "stream",
     "text": [
      "MY NAME IS KUSH AND I AM LEARNING DATA SCIENCE\n"
     ]
    }
   ],
   "source": [
    "string = \"My name is kush and i am learning data science\"\n",
    "print(string.upper())"
   ]
  },
  {
   "cell_type": "markdown",
   "id": "b84e00e7",
   "metadata": {},
   "source": [
    "### How can you convert a string to lowercase in Python?"
   ]
  },
  {
   "cell_type": "markdown",
   "id": "9fa41e68",
   "metadata": {},
   "source": [
    "To convert a string to lowercase in Python, the lower() method is used. This method returns a new string where all uppercase characters have been converted to lowercase. The original string remains unchanged."
   ]
  },
  {
   "cell_type": "code",
   "execution_count": 41,
   "id": "786b3c92",
   "metadata": {},
   "outputs": [
    {
     "name": "stdout",
     "output_type": "stream",
     "text": [
      "my name is kush and i am learning data science\n"
     ]
    }
   ],
   "source": [
    "string = \"MY NAME IS KUSH AND I AM LEARNING DATA SCIENCE\"\n",
    "print(string.lower())"
   ]
  },
  {
   "cell_type": "markdown",
   "id": "e12efa69",
   "metadata": {},
   "source": [
    "### What method is used to replace substrings within a string?"
   ]
  },
  {
   "cell_type": "markdown",
   "id": "ddb1f5c0",
   "metadata": {},
   "source": [
    "The primary method used to replace substrings within a string is the replace().This method searches for a specific substring and replaces it with a new one, returning a new string with the replacements. "
   ]
  },
  {
   "cell_type": "code",
   "execution_count": 44,
   "id": "cf7226e3",
   "metadata": {},
   "outputs": [
    {
     "name": "stdout",
     "output_type": "stream",
     "text": [
      "My name is kush and i am learning python\n"
     ]
    }
   ],
   "source": [
    "My_string = \"My name is kush and i am learning data science\"\n",
    "print (My_string.replace(\"data science\", \"python\"))"
   ]
  },
  {
   "cell_type": "markdown",
   "id": "74510f09",
   "metadata": {},
   "source": [
    "### How can you split a string into a list of substrings based on a delimiter?"
   ]
  },
  {
   "cell_type": "markdown",
   "id": "fd75e8cd",
   "metadata": {},
   "source": [
    "To split a string into a list of substrings based on a delimiter, you can use the split() method in Python. The split() method takes a delimiter as an argument and returns a list of substrings separated by that delimiter. "
   ]
  },
  {
   "cell_type": "code",
   "execution_count": 59,
   "id": "babbcf55",
   "metadata": {},
   "outputs": [
    {
     "name": "stdout",
     "output_type": "stream",
     "text": [
      "['My', 'name', 'is', 'kush', 'and', 'i', 'am', 'learning', 'data', 'science']\n"
     ]
    }
   ],
   "source": [
    "My_string = \"My name is kush and i am learning data science\"\n",
    "print(My_string.split(\" \"))"
   ]
  },
  {
   "cell_type": "markdown",
   "id": "fe2fcdda",
   "metadata": {},
   "source": [
    "### How do you check if a string starts with a particular substring?"
   ]
  },
  {
   "cell_type": "markdown",
   "id": "768579c6",
   "metadata": {},
   "source": [
    "startswith() method in Python checks whether a given string starts with a specific prefix. It helps in efficiently verifying whether a string begins with a certain substring, which can be useful in various scenarios like:\n",
    "\n",
    "1. Filtering data\n",
    "2. Validating input\n",
    "3. Simple pattern matching"
   ]
  },
  {
   "cell_type": "code",
   "execution_count": 60,
   "id": "ec9f420d",
   "metadata": {},
   "outputs": [
    {
     "name": "stdout",
     "output_type": "stream",
     "text": [
      "False\n"
     ]
    }
   ],
   "source": [
    "My_string = \"My name is kush and i am learning data science\"\n",
    "print(My_string.startswith(\"name\"))"
   ]
  },
  {
   "cell_type": "code",
   "execution_count": 61,
   "id": "cff3ab05",
   "metadata": {},
   "outputs": [
    {
     "name": "stdout",
     "output_type": "stream",
     "text": [
      "True\n"
     ]
    }
   ],
   "source": [
    "My_string = \"My name is kush and i am learning data science\"\n",
    "print(My_string.startswith(\"My\"))"
   ]
  },
  {
   "cell_type": "markdown",
   "id": "2c3c6b84",
   "metadata": {},
   "source": [
    "### How do you check if a string ends with a particular substring?"
   ]
  },
  {
   "cell_type": "markdown",
   "id": "705a256f",
   "metadata": {},
   "source": [
    "To determine if a string ends with a particular substring, you can use the endswith() method in Python. This method takes the substring as an argument and returns True if the string ends with it, and False otherwise. "
   ]
  },
  {
   "cell_type": "code",
   "execution_count": 71,
   "id": "7f8079f4",
   "metadata": {},
   "outputs": [
    {
     "name": "stdout",
     "output_type": "stream",
     "text": [
      "The string does not end with AI\n"
     ]
    }
   ],
   "source": [
    "#if-else method\n",
    "My_string = \"My name is kush and i am learning AI\"\n",
    "string1 = \"AI\"\n",
    "if string.endswith(\"learning\"):\n",
    "    print(\"The string ends with\", string1)\n",
    "else:\n",
    "    print(\"The string does not end with\", string1)"
   ]
  },
  {
   "cell_type": "code",
   "execution_count": 72,
   "id": "62537bb6",
   "metadata": {},
   "outputs": [
    {
     "data": {
      "text/plain": [
       "True"
      ]
     },
     "execution_count": 72,
     "metadata": {},
     "output_type": "execute_result"
    }
   ],
   "source": [
    "My_string = \"My name is kush and i am learning AI\"\n",
    "string.endswith(\"AI\")"
   ]
  },
  {
   "cell_type": "code",
   "execution_count": 73,
   "id": "91bd8e08",
   "metadata": {},
   "outputs": [
    {
     "data": {
      "text/plain": [
       "False"
      ]
     },
     "execution_count": 73,
     "metadata": {},
     "output_type": "execute_result"
    }
   ],
   "source": [
    "My_string = \"My name is kush and i am learning AI\"\n",
    "string.endswith(\"learning\")"
   ]
  },
  {
   "cell_type": "markdown",
   "id": "5d2ae08e",
   "metadata": {},
   "source": [
    " ### How can you remove leading and trailing whitespace from a string?"
   ]
  },
  {
   "cell_type": "markdown",
   "id": "05ca1464",
   "metadata": {},
   "source": [
    "Python's built-in strip() method is used to remove leading and trailing whitespace from a string. Whitespace includes spaces, tabs, and newline characters."
   ]
  },
  {
   "cell_type": "code",
   "execution_count": 87,
   "id": "7ca442ff",
   "metadata": {},
   "outputs": [
    {
     "name": "stdout",
     "output_type": "stream",
     "text": [
      "My name is kush and i am learning AI\n"
     ]
    }
   ],
   "source": [
    "My_string = \"    My name is kush and i am learning AI   \\n\"\n",
    "print(My_string.strip())"
   ]
  },
  {
   "cell_type": "markdown",
   "id": "d22f0d10",
   "metadata": {},
   "source": [
    " ### What method is used to find the index of the first occurrence of a substring within a string?\n"
   ]
  },
  {
   "cell_type": "markdown",
   "id": "abcd8056",
   "metadata": {},
   "source": [
    "In Python, the find() method is used to find the index of the first occurrence of a substring within a string. This method returns the index of the starting position of the substring if found, and -1 if the substring is not present in the string. "
   ]
  },
  {
   "cell_type": "code",
   "execution_count": 89,
   "id": "0051fab6",
   "metadata": {},
   "outputs": [
    {
     "name": "stdout",
     "output_type": "stream",
     "text": [
      "20\n"
     ]
    }
   ],
   "source": [
    "My_string = \"My name is kush and i am learning AI\"\n",
    "print(My_string.find(\"i am learning AI\"))"
   ]
  },
  {
   "cell_type": "markdown",
   "id": "af448f75",
   "metadata": {},
   "source": [
    "### How can you count the number of occurrences of a substring within a string?"
   ]
  },
  {
   "cell_type": "markdown",
   "id": "6b898e35",
   "metadata": {},
   "source": [
    "To count the occurrences of a substring within a string, you can use the count() method in Python. This method takes the substring as an argument and returns the number of times it appears in the string. "
   ]
  },
  {
   "cell_type": "code",
   "execution_count": 92,
   "id": "a2485d81",
   "metadata": {},
   "outputs": [
    {
     "name": "stdout",
     "output_type": "stream",
     "text": [
      "3\n"
     ]
    }
   ],
   "source": [
    "My_string = \"My name is kush and i am learning AI\"\n",
    "sub_string = \"i\"\n",
    "print(My_string.count(sub_string))"
   ]
  },
  {
   "cell_type": "markdown",
   "id": "b9d66841",
   "metadata": {},
   "source": [
    "### How do you check if a string contains only alphabetic characters?"
   ]
  },
  {
   "cell_type": "markdown",
   "id": "7c460dcc",
   "metadata": {},
   "source": [
    "The isalpha() method can be used to determine if a string consists solely of alphabetic characters (A-Z, a-z). It returns True if all characters in the string are letters and False otherwise, including when the string is empty."
   ]
  },
  {
   "cell_type": "code",
   "execution_count": 98,
   "id": "e4eb296c",
   "metadata": {},
   "outputs": [
    {
     "name": "stdout",
     "output_type": "stream",
     "text": [
      "False\n"
     ]
    }
   ],
   "source": [
    "My_string = \"My name is kush and i am learning AI\"\n",
    "print(My_string.isalpha())"
   ]
  },
  {
   "cell_type": "markdown",
   "id": "39a39e4c",
   "metadata": {},
   "source": [
    "### How do you check if a string contains only numeric characters?"
   ]
  },
  {
   "cell_type": "markdown",
   "id": "1fdd4ce5",
   "metadata": {},
   "source": [
    "To check if a string contains only numeric characters in Python, the isnumeric() method can be used. This method returns True if all characters in the string are numeric, and False otherwise. "
   ]
  },
  {
   "cell_type": "code",
   "execution_count": 101,
   "id": "d3f4f51d",
   "metadata": {},
   "outputs": [
    {
     "name": "stdout",
     "output_type": "stream",
     "text": [
      "True\n",
      "False\n"
     ]
    }
   ],
   "source": [
    "My_string1 = \"12345\"\n",
    "My_string2 = \"123ab\"\n",
    "print(My_string1.isnumeric()) \n",
    "print(My_string2.isnumeric())"
   ]
  },
  {
   "cell_type": "markdown",
   "id": "d5ae4d9f",
   "metadata": {},
   "source": [
    "### How can you check if a string is a palindrome?"
   ]
  },
  {
   "cell_type": "markdown",
   "id": "79c82ee4",
   "metadata": {},
   "source": [
    "To determine if a string is a palindrome, you can reverse the string and compare it to the original. If the reversed string matches the original, the string is a palindrome. "
   ]
  },
  {
   "cell_type": "code",
   "execution_count": 111,
   "id": "f9a584d4",
   "metadata": {},
   "outputs": [
    {
     "name": "stdout",
     "output_type": "stream",
     "text": [
      "Yes\n"
     ]
    }
   ],
   "source": [
    "My_string = \"malayalam\"\n",
    "\n",
    "if My_string == My_string[::-1]:\n",
    "    print(\"Yes\")\n",
    "else:\n",
    "    print(\"No\")"
   ]
  },
  {
   "cell_type": "markdown",
   "id": "ed2ad1a1",
   "metadata": {},
   "source": [
    "### How can you reverse a string in Python?"
   ]
  },
  {
   "cell_type": "markdown",
   "id": "5c68919c",
   "metadata": {},
   "source": [
    "This slicing method is one of the simplest and an efficient method to reverse a string. It is easy to remember and best suited for reverse the string quickly."
   ]
  },
  {
   "cell_type": "code",
   "execution_count": 113,
   "id": "7d9464a6",
   "metadata": {},
   "outputs": [
    {
     "name": "stdout",
     "output_type": "stream",
     "text": [
      "IA gninrael ma i dna hsuk si eman yM\n"
     ]
    }
   ],
   "source": [
    "My_string = \"My name is kush and i am learning AI\"\n",
    "rev = My_string[::-1]\n",
    "print(rev)"
   ]
  },
  {
   "cell_type": "markdown",
   "id": "d6dc2d3b",
   "metadata": {},
   "source": [
    "### How do you format a string with placeholders for variable values?"
   ]
  },
  {
   "cell_type": "markdown",
   "id": "cdc35cf3",
   "metadata": {},
   "source": [
    "To format a string with placeholders for variable values, you can use placeholder syntax like {} (in Python), %s, %d, etc. (in Java, Python), or f-strings (in Python). The specific method and syntax may vary depending on the programming language, but the general concept is to insert values into a string where placeholders indicate where the values should be inserted. "
   ]
  },
  {
   "cell_type": "code",
   "execution_count": 117,
   "id": "d8412358",
   "metadata": {},
   "outputs": [
    {
     "name": "stdout",
     "output_type": "stream",
     "text": [
      "my name is Rohan and my age is 28\n"
     ]
    }
   ],
   "source": [
    "name = \"Rohan\"\n",
    "age = 28\n",
    "message = \"My name is name and my age is age\"\n",
    "message3 = \"my name is {} and my age is {}\".format(name,age) # {}.format method used\n",
    "print(message3)"
   ]
  },
  {
   "cell_type": "code",
   "execution_count": 116,
   "id": "f5bb9620",
   "metadata": {},
   "outputs": [
    {
     "name": "stdout",
     "output_type": "stream",
     "text": [
      "My name is Rohan and my age is 28\n"
     ]
    }
   ],
   "source": [
    "name = \"Rohan\"\n",
    "age = 28\n",
    "message = \"My name is name and my age is age\"\n",
    "message2 = f\"My name is {name} and my age is {age}\" # f string method used\n",
    "print(message2)"
   ]
  },
  {
   "cell_type": "markdown",
   "id": "533ec3b3",
   "metadata": {},
   "source": [
    "### How do you access a substring of a string using slicing?"
   ]
  },
  {
   "cell_type": "code",
   "execution_count": 126,
   "id": "b1ac3bc5",
   "metadata": {},
   "outputs": [
    {
     "name": "stdout",
     "output_type": "stream",
     "text": [
      "My name is kush an\n"
     ]
    }
   ],
   "source": [
    "My_string = \"My name is kush and i am learning AI\"\n",
    "print(My_string[0:18])"
   ]
  },
  {
   "cell_type": "markdown",
   "id": "4b26d731",
   "metadata": {},
   "source": [
    "### How can you remove specific characters from a string in Python?"
   ]
  },
  {
   "cell_type": "markdown",
   "id": "25e1f488",
   "metadata": {},
   "source": [
    "To remove specific characters from a string in Python, methods like replace() and translate() can be employed. The replace() method substitutes all occurrences of a specified character or substring with another, including an empty string to effectively remove it."
   ]
  },
  {
   "cell_type": "code",
   "execution_count": 151,
   "id": "6a4fd5f0",
   "metadata": {},
   "outputs": [
    {
     "name": "stdout",
     "output_type": "stream",
     "text": [
      "My name is kush and i am learning AI\n"
     ]
    }
   ],
   "source": [
    "My_string = \"My, name, is, kush, and, i, am, learning, AI\"\n",
    "new_string = My_string.replace(\",\", \"\")\n",
    "print(new_string) "
   ]
  },
  {
   "cell_type": "code",
   "execution_count": null,
   "id": "8ca20fc8",
   "metadata": {},
   "outputs": [],
   "source": []
  },
  {
   "cell_type": "code",
   "execution_count": null,
   "id": "55d91631",
   "metadata": {},
   "outputs": [],
   "source": []
  },
  {
   "cell_type": "code",
   "execution_count": null,
   "id": "53051596",
   "metadata": {},
   "outputs": [],
   "source": []
  }
 ],
 "metadata": {
  "kernelspec": {
   "display_name": "Python 3 (ipykernel)",
   "language": "python",
   "name": "python3"
  },
  "language_info": {
   "codemirror_mode": {
    "name": "ipython",
    "version": 3
   },
   "file_extension": ".py",
   "mimetype": "text/x-python",
   "name": "python",
   "nbconvert_exporter": "python",
   "pygments_lexer": "ipython3",
   "version": "3.9.7"
  }
 },
 "nbformat": 4,
 "nbformat_minor": 5
}
